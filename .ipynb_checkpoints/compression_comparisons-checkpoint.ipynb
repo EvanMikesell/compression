{
 "cells": [
  {
   "cell_type": "code",
   "execution_count": 54,
   "metadata": {},
   "outputs": [],
   "source": [
    "from PIL import Image\n",
    "import PIL\n",
    "import os\n",
    "import openjpeg\n",
    "import cv2\n",
    "import numpy\n",
    "import time"
   ]
  },
  {
   "cell_type": "code",
   "execution_count": 55,
   "metadata": {},
   "outputs": [],
   "source": [
    "#initial image, any image can be used here\n",
    "im = Image.open(\"image-1.jpg\")\n",
    "rgb_im = im.convert('RGB')\n",
    "np_im = numpy.array(rgb_im)"
   ]
  },
  {
   "cell_type": "code",
   "execution_count": 56,
   "metadata": {},
   "outputs": [],
   "source": [
    "file_name = 'image-1-compressed.jpg'\n",
    "rgb_im = im.convert('RGB')\n",
    "picture = Image.open('image-1.jpg')"
   ]
  },
  {
   "cell_type": "code",
   "execution_count": 65,
   "metadata": {},
   "outputs": [],
   "source": [
    "start = time.time()\n",
    "picture.save(\"Picture1.jpg\",optimize=True,quality=60) \n",
    "end = time.time()\n",
    "jpg_time = end - start\n",
    "\n",
    "jpg_im = Image.open('Picture1.jpg')\n",
    "jpg_im = jpg_im.convert('RGB')\n",
    "jpg_np = numpy.array(jpg_im)\n",
    "\n",
    "jpg_psnr = cv2.PSNR(np_im, jpg_np)"
   ]
  },
  {
   "cell_type": "code",
   "execution_count": 75,
   "metadata": {},
   "outputs": [],
   "source": [
    "start = time.time()\n",
    "rgb_im.save('Picture2.png')\n",
    "end = time.time()\n",
    "png_time = end - start\n",
    "\n",
    "png_im = Image.open('Picture2.png')\n",
    "png_im = png_im.convert('RGB')\n",
    "png_np = numpy.array(png_im)\n",
    "\n",
    "png_psnr = cv2.PSNR(np_im, png_np)"
   ]
  },
  {
   "cell_type": "code",
   "execution_count": 76,
   "metadata": {},
   "outputs": [],
   "source": [
    "start = time.time()\n",
    "rgb_im.save('Picture3.gif')\n",
    "end = time.time()\n",
    "gif_time = end - start\n",
    "\n",
    "gif_im = Image.open('Picture3.gif')\n",
    "gif_im = gif_im.convert('RGB')\n",
    "gif_np = numpy.array(gif_im)\n",
    "\n",
    "gif_psnr = cv2.PSNR(np_im, gif_np)"
   ]
  },
  {
   "cell_type": "code",
   "execution_count": 77,
   "metadata": {},
   "outputs": [],
   "source": [
    "start = time.time()\n",
    "rgb_im.save('Picture4.j2k')\n",
    "end = time.time()\n",
    "j2k_time = end - start\n",
    "\n",
    "j2k_im = Image.open('Picture4.j2k')\n",
    "j2k_im = j2k_im.convert('RGB')\n",
    "j2k_np = numpy.array(j2k_im)\n",
    "\n",
    "j2k_psnr = cv2.PSNR(np_im, j2k_np)"
   ]
  },
  {
   "cell_type": "code",
   "execution_count": 78,
   "metadata": {},
   "outputs": [],
   "source": [
    "start = time.time()\n",
    "rgb_im.save('Picture5.TIFF')\n",
    "end = time.time()\n",
    "\n",
    "tiff_time = end - start\n",
    "\n",
    "tiff_im = Image.open('Picture5.TIFF')\n",
    "tiff_im = tiff_im.convert('RGB')\n",
    "tiff_np = numpy.array(tiff_im)\n",
    "\n",
    "tiff_psnr = cv2.PSNR(np_im, tiff_np)"
   ]
  },
  {
   "cell_type": "code",
   "execution_count": 79,
   "metadata": {},
   "outputs": [
    {
     "name": "stdout",
     "output_type": "stream",
     "text": [
      "Original Image Size: 196256\n",
      "JPEG Size: 87390\n",
      "JPEG Compression Time: 0.01196599006652832\n",
      "JPEG PSNR 41.6682924209147\n",
      "PNG Size: 1350257\n",
      "PNG Compression Time: 0.539191722869873\n",
      "PNG PSNR 361.20199909921956\n",
      "GIF Size: 764363\n",
      "GIF Compression Time: 0.2681577205657959\n",
      "GIF PSNR 39.54492508108649\n",
      "JPEG2000 Size: 1404280\n",
      "JPEG2000 Compression Time: 0.3321096897125244\n",
      "JPEG2000 PSNR 361.20199909921956\n",
      "TIFF Size: 6220940\n",
      "TIFF Compression Time: 0.007978439331054688\n",
      "TIFF PSNR: 361.20199909921956\n"
     ]
    }
   ],
   "source": [
    "print(\"Original Image Size:\", os.stat('image-1.jpg').st_size)\n",
    "\n",
    "print(\"JPEG Size:\", os.stat('Picture1.jpg').st_size)\n",
    "print(\"JPEG Compression Time:\", jpg_time)\n",
    "print(\"JPEG PSNR\", jpg_psnr)\n",
    "\n",
    "\n",
    "print(\"PNG Size:\", os.stat('Picture2.png').st_size)\n",
    "print(\"PNG Compression Time:\", png_time)\n",
    "print(\"PNG PSNR\", png_psnr)\n",
    "\n",
    "print(\"GIF Size:\", os.stat('Picture3.gif').st_size)\n",
    "print(\"GIF Compression Time:\", gif_time)\n",
    "print(\"GIF PSNR\", gif_psnr)\n",
    "\n",
    "\n",
    "print(\"JPEG2000 Size:\", os.stat('Picture4.j2k').st_size)\n",
    "print(\"JPEG2000 Compression Time:\", j2k_time)\n",
    "print(\"JPEG2000 PSNR\", j2k_psnr)\n",
    "\n",
    "\n",
    "print(\"TIFF Size:\", os.stat('Picture5.TIFF').st_size)\n",
    "print(\"TIFF Compression Time:\", tiff_time)\n",
    "print(\"TIFF PSNR:\", tiff_psnr)"
   ]
  }
 ],
 "metadata": {
  "kernelspec": {
   "display_name": "Python 3",
   "language": "python",
   "name": "python3"
  },
  "language_info": {
   "codemirror_mode": {
    "name": "ipython",
    "version": 3
   },
   "file_extension": ".py",
   "mimetype": "text/x-python",
   "name": "python",
   "nbconvert_exporter": "python",
   "pygments_lexer": "ipython3",
   "version": "3.8.3"
  }
 },
 "nbformat": 4,
 "nbformat_minor": 4
}
