{
 "cells": [
  {
   "cell_type": "code",
   "execution_count": 51,
   "metadata": {},
   "outputs": [],
   "source": [
    "from PIL import Image\n",
    "import PIL\n",
    "import os\n",
    "import openjpeg\n",
    "import cv2\n",
    "import numpy\n",
    "import time\n",
    "import pillow_heif\n",
    "from pillow_heif import register_heif_opener\n",
    "\n",
    "register_heif_opener()"
   ]
  },
  {
   "cell_type": "code",
   "execution_count": 52,
   "metadata": {},
   "outputs": [],
   "source": [
    "def compression_ratio(file_name):\n",
    "    original_image_size = os.stat('file_example.tiff').st_size\n",
    "    size = os.stat(file_name).st_size\n",
    "    ratio = original_image_size / size\n",
    "    return size, ratio"
   ]
  },
  {
   "cell_type": "code",
   "execution_count": 53,
   "metadata": {},
   "outputs": [],
   "source": [
    "#initial image, any image can be used here\n",
    "im = Image.open(\"file_example.tiff\")\n",
    "rgb_im = im.convert('RGB')\n",
    "np_im = numpy.array(rgb_im)"
   ]
  },
  {
   "cell_type": "code",
   "execution_count": 54,
   "metadata": {},
   "outputs": [],
   "source": [
    "start = time.time()\n",
    "rgb_im.save(\"Picture1.jpg\", quality=50, optimize=True)\n",
    "end = time.time()\n",
    "jpg_time = end - start\n",
    "\n",
    "jpg_im = Image.open('Picture1.jpg')\n",
    "jpg_im = jpg_im.convert('RGB')\n",
    "jpg_np = numpy.array(jpg_im)\n",
    "\n",
    "jpg_psnr = cv2.PSNR(np_im, jpg_np)\n",
    "jpg_mse = np.square(np.subtract(np_im,jpg_np)).mean()\n",
    "\n",
    "jpg_size, jpg_cr = compression_ratio('Picture1.jpg')"
   ]
  },
  {
   "cell_type": "code",
   "execution_count": 55,
   "metadata": {},
   "outputs": [],
   "source": [
    "start = time.time()\n",
    "rgb_im.save('Picture2.png')\n",
    "end = time.time()\n",
    "png_time = end - start\n",
    "\n",
    "png_im = Image.open('Picture2.png')\n",
    "png_im = png_im.convert('RGB')\n",
    "png_np = numpy.array(png_im)\n",
    "\n",
    "png_psnr = cv2.PSNR(np_im, png_np)\n",
    "png_mse = np.square(np.subtract(np_im,png_np)).mean()\n",
    "\n",
    "png_size, png_cr = compression_ratio('Picture2.png')"
   ]
  },
  {
   "cell_type": "code",
   "execution_count": 56,
   "metadata": {},
   "outputs": [],
   "source": [
    "start = time.time()\n",
    "rgb_im.save('Picture3.gif')\n",
    "end = time.time()\n",
    "gif_time = end - start\n",
    "\n",
    "gif_im = Image.open('Picture3.gif')\n",
    "gif_im = gif_im.convert('RGB')\n",
    "gif_np = numpy.array(gif_im)\n",
    "\n",
    "gif_psnr = cv2.PSNR(np_im, gif_np)\n",
    "gif_mse = np.square(np.subtract(np_im,gif_np)).mean()\n",
    "\n",
    "gif_size, gif_cr = compression_ratio('Picture3.gif')"
   ]
  },
  {
   "cell_type": "code",
   "execution_count": 57,
   "metadata": {},
   "outputs": [],
   "source": [
    "start = time.time()\n",
    "rgb_im.save('Picture4.j2k')\n",
    "end = time.time()\n",
    "jp2_time = end - start\n",
    "\n",
    "jp2_im = Image.open('Picture4.jp2')\n",
    "jp2_im = jp2_im.convert('RGB')\n",
    "jp2_np = numpy.array(jp2_im)\n",
    "\n",
    "jp2_psnr = cv2.PSNR(np_im, jp2_np)\n",
    "jp2_mse = np.square(np.subtract(np_im,jp2_np)).mean()\n",
    "\n",
    "jp2_size, jp2_cr = compression_ratio('Picture4.jp2')"
   ]
  },
  {
   "cell_type": "code",
   "execution_count": 58,
   "metadata": {},
   "outputs": [],
   "source": [
    "start = time.time()\n",
    "rgb_im.save('Picture5.TIFF')\n",
    "end = time.time()\n",
    "\n",
    "tiff_time = end - start\n",
    "\n",
    "tiff_im = Image.open('Picture5.TIFF')\n",
    "tiff_im = tiff_im.convert('RGB')\n",
    "tiff_np = numpy.array(tiff_im)\n",
    "\n",
    "tiff_psnr = cv2.PSNR(np_im, tiff_np)\n",
    "tiff_mse = np.square(np.subtract(np_im,tiff_np)).mean()\n",
    "\n",
    "tiff_size, tiff_cr = compression_ratio('Picture5.tiff')"
   ]
  },
  {
   "cell_type": "code",
   "execution_count": 74,
   "metadata": {},
   "outputs": [],
   "source": [
    "start = time.time()\n",
    "rgb_im.save('Picture5.heif', quality = 50)\n",
    "end = time.time()\n",
    "\n",
    "heif_time = end - start\n",
    "\n",
    "heif_im = Image.open('Picture5.heif')\n",
    "heif_im = heif_im.convert('RGB')\n",
    "heif_np = numpy.array(heif_im)\n",
    "\n",
    "heif_psnr = cv2.PSNR(np_im, heif_np)\n",
    "heif_mse = np.square(np.subtract(np_im, heif_np)).mean()\n",
    "\n",
    "heif_size, heif_cr = compression_ratio('Picture5.heif')"
   ]
  },
  {
   "cell_type": "code",
   "execution_count": 75,
   "metadata": {},
   "outputs": [],
   "source": [
    "start = time.time()\n",
    "rgb_im.save('Picture6.webp', quality = 80)\n",
    "end = time.time()\n",
    "\n",
    "webp_time = end - start\n",
    "\n",
    "webp_im = Image.open('Picture6.webp')\n",
    "webp_im = webp_im.convert('RGB')\n",
    "webp_np = numpy.array(webp_im)\n",
    "\n",
    "webp_psnr = cv2.PSNR(np_im, webp_np)\n",
    "webp_mse = np.square(np.subtract(np_im, webp_np)).mean()\n",
    "\n",
    "webp_size, webp_cr = compression_ratio('Picture6.webp')"
   ]
  },
  {
   "cell_type": "code",
   "execution_count": 76,
   "metadata": {},
   "outputs": [
    {
     "name": "stdout",
     "output_type": "stream",
     "text": [
      "Original Image Size: 1131930\n",
      "JPEG Size: 17626\n",
      "JPEG Compression Ratio 64.21933507318734\n",
      "JPEG Compression Time: 0.0029926300048828125\n",
      "JPEG PSNR 35.21710618406599\n",
      "JPEG MSE 11.95475599669148\n",
      "HEIF Size: 17234\n",
      "HEIF Compression Ratio 65.68005106185447\n",
      "HEIF Compression Time: 0.11768555641174316\n",
      "HEIF PSNR: 39.0544867299432\n",
      "HEIF MSE 6.067680491551459\n",
      "WEBP Size: 17514\n",
      "WEBP Compression Ratio 64.63001027749229\n",
      "WEBP Compression Time: 0.02991938591003418\n",
      "WEBP PSNR: 39.11153744111219\n",
      "WEBP MSE 6.652468391823231\n"
     ]
    }
   ],
   "source": [
    "print(\"Original Image Size:\", os.stat('file_example.tiff').st_size)"
   ]
  },
  {
   "cell_type": "markdown",
   "metadata": {},
   "source": [
    "# Lossless Algorithms"
   ]
  },
  {
   "cell_type": "code",
   "execution_count": 77,
   "metadata": {},
   "outputs": [
    {
     "name": "stdout",
     "output_type": "stream",
     "text": [
      "PNG Size: 332874\n",
      "PNG Compression Ratio 3.4004758557291948\n",
      "PNG Compression Time: 0.15198659896850586\n",
      "PNG PSNR 361.20199909921956\n",
      "PNG MSE 0.0\n",
      "GIF Size: 115615\n",
      "GIF Compression Ratio 9.790511611815075\n",
      "GIF Compression Time: 0.12764811515808105\n",
      "GIF PSNR 35.67110310167071\n",
      "GIF MSE 14.571833865059672\n",
      "JPEG2000 Size: 287224\n",
      "JPEG2000 Compression Ratio 3.94093111996212\n",
      "JPEG2000 Compression Time: 0.06582427024841309\n",
      "JPEG2000 PSNR 361.20199909921956\n",
      "JPEG2000 MSE 0.0\n",
      "TIFF Size: 849596\n",
      "TIFF Compression Ratio 1.3323155947061898\n",
      "TIFF Compression Time: 0.0029916763305664062\n",
      "TIFF PSNR: 361.20199909921956\n",
      "TIFF MSE 0.0\n"
     ]
    }
   ],
   "source": [
    "print(\"PNG Size:\", png_size)\n",
    "print(\"PNG Compression Ratio\", png_cr)\n",
    "print(\"PNG Compression Time:\", png_time)\n",
    "print(\"PNG PSNR\", png_psnr)\n",
    "print(\"PNG MSE\", png_mse)\n",
    "\n",
    "print(\"GIF Size:\", gif_size)\n",
    "print(\"GIF Compression Ratio\", gif_cr)\n",
    "print(\"GIF Compression Time:\", gif_time)\n",
    "print(\"GIF PSNR\", gif_psnr)\n",
    "print(\"GIF MSE\", gif_mse)\n",
    "\n",
    "\n",
    "print(\"JPEG2000 Size:\", jp2_size)\n",
    "print(\"JPEG2000 Compression Ratio\", jp2_cr)\n",
    "print(\"JPEG2000 Compression Time:\", jp2_time)\n",
    "print(\"JPEG2000 PSNR\", jp2_psnr)\n",
    "print(\"JPEG2000 MSE\", jp2_mse)\n",
    "\n",
    "\n",
    "print(\"TIFF Size:\", tiff_size)\n",
    "print(\"TIFF Compression Ratio\", tiff_cr)\n",
    "print(\"TIFF Compression Time:\", tiff_time)\n",
    "print(\"TIFF PSNR:\", tiff_psnr)\n",
    "print(\"TIFF MSE\", tiff_mse)"
   ]
  },
  {
   "cell_type": "markdown",
   "metadata": {},
   "source": [
    "# Lossy Algorithms, Similar Compression Ratios"
   ]
  },
  {
   "cell_type": "code",
   "execution_count": 78,
   "metadata": {},
   "outputs": [
    {
     "name": "stdout",
     "output_type": "stream",
     "text": [
      "JPEG Size: 17626\n",
      "JPEG Compression Ratio 64.21933507318734\n",
      "JPEG Compression Time: 0.0029926300048828125\n",
      "JPEG PSNR 35.21710618406599\n",
      "JPEG MSE 11.95475599669148\n",
      "HEIF Size: 17234\n",
      "HEIF Compression Ratio 65.68005106185447\n",
      "HEIF Compression Time: 0.11768555641174316\n",
      "HEIF PSNR: 39.0544867299432\n",
      "HEIF MSE 6.067680491551459\n",
      "WEBP Size: 17514\n",
      "WEBP Compression Ratio 64.63001027749229\n",
      "WEBP Compression Time: 0.02991938591003418\n",
      "WEBP PSNR: 39.11153744111219\n",
      "WEBP MSE 6.652468391823231\n"
     ]
    }
   ],
   "source": [
    "print(\"JPEG Size:\", jpg_size)\n",
    "print(\"JPEG Compression Ratio\", jpg_cr)\n",
    "print(\"JPEG Compression Time:\", jpg_time)\n",
    "print(\"JPEG PSNR\", jpg_psnr)\n",
    "print(\"JPEG MSE\", jpg_mse)\n",
    "\n",
    "\n",
    "print(\"HEIF Size:\", heif_size)\n",
    "print(\"HEIF Compression Ratio\", heif_cr)\n",
    "print(\"HEIF Compression Time:\", heif_time)\n",
    "print(\"HEIF PSNR:\", heif_psnr)\n",
    "print(\"HEIF MSE\", heif_mse)\n",
    "\n",
    "print(\"WEBP Size:\", webp_size)\n",
    "print(\"WEBP Compression Ratio\", webp_cr)\n",
    "print(\"WEBP Compression Time:\", webp_time)\n",
    "print(\"WEBP PSNR:\", webp_psnr)\n",
    "print(\"WEBP MSE\", webp_mse)"
   ]
  },
  {
   "cell_type": "code",
   "execution_count": null,
   "metadata": {},
   "outputs": [],
   "source": []
  },
  {
   "cell_type": "code",
   "execution_count": null,
   "metadata": {},
   "outputs": [],
   "source": []
  }
 ],
 "metadata": {
  "kernelspec": {
   "display_name": "Python 3",
   "language": "python",
   "name": "python3"
  },
  "language_info": {
   "codemirror_mode": {
    "name": "ipython",
    "version": 3
   },
   "file_extension": ".py",
   "mimetype": "text/x-python",
   "name": "python",
   "nbconvert_exporter": "python",
   "pygments_lexer": "ipython3",
   "version": "3.8.3"
  }
 },
 "nbformat": 4,
 "nbformat_minor": 4
}
