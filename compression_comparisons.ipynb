{
 "cells": [
  {
   "cell_type": "code",
   "execution_count": 10,
   "metadata": {},
   "outputs": [],
   "source": [
    "from PIL import Image\n",
    "import PIL\n",
    "import os\n",
    "import openjpeg\n",
    "import cv2\n",
    "import numpy\n",
    "import time"
   ]
  },
  {
   "cell_type": "code",
   "execution_count": 11,
   "metadata": {},
   "outputs": [],
   "source": [
    "def compression_ratio(file_name):\n",
    "    original_image_size = os.stat('file_example.tiff').st_size\n",
    "    size = os.stat(file_name).st_size\n",
    "    ratio = original_image_size / size\n",
    "    return size, ratio"
   ]
  },
  {
   "cell_type": "code",
   "execution_count": 12,
   "metadata": {},
   "outputs": [],
   "source": [
    "#initial image, any image can be used here\n",
    "im = Image.open(\"file_example.tiff\")\n",
    "rgb_im = im.convert('RGB')\n",
    "np_im = numpy.array(rgb_im)"
   ]
  },
  {
   "cell_type": "code",
   "execution_count": 13,
   "metadata": {},
   "outputs": [],
   "source": [
    "start = time.time()\n",
    "rgb_im.save(\"Picture1.jpg\",optimize=True,quality=100) \n",
    "end = time.time()\n",
    "jpg_time = end - start\n",
    "\n",
    "jpg_im = Image.open('Picture1.jpg')\n",
    "jpg_im = jpg_im.convert('RGB')\n",
    "jpg_np = numpy.array(jpg_im)\n",
    "\n",
    "jpg_psnr = cv2.PSNR(np_im, jpg_np)\n",
    "\n",
    "jpg_size, jpg_cr = compression_ratio('Picture1.jpg')"
   ]
  },
  {
   "cell_type": "code",
   "execution_count": 19,
   "metadata": {},
   "outputs": [],
   "source": [
    "start = time.time()\n",
    "rgb_im.save('Picture2.png')\n",
    "end = time.time()\n",
    "png_time = end - start\n",
    "\n",
    "png_im = Image.open('Picture2.png')\n",
    "png_im = png_im.convert('RGB')\n",
    "png_np = numpy.array(png_im)\n",
    "\n",
    "png_psnr = cv2.PSNR(np_im, png_np)\n",
    "\n",
    "png_size, png_cr = compression_ratio('Picture2.png')"
   ]
  },
  {
   "cell_type": "code",
   "execution_count": 15,
   "metadata": {},
   "outputs": [],
   "source": [
    "start = time.time()\n",
    "rgb_im.save('Picture3.gif')\n",
    "end = time.time()\n",
    "gif_time = end - start\n",
    "\n",
    "gif_im = Image.open('Picture3.gif')\n",
    "gif_im = gif_im.convert('RGB')\n",
    "gif_np = numpy.array(gif_im)\n",
    "\n",
    "gif_psnr = cv2.PSNR(np_im, gif_np)\n",
    "\n",
    "gif_size, gif_cr = compression_ratio('Picture3.gif')"
   ]
  },
  {
   "cell_type": "code",
   "execution_count": 21,
   "metadata": {},
   "outputs": [],
   "source": [
    "start = time.time()\n",
    "rgb_im.save('Picture4.j2k')\n",
    "end = time.time()\n",
    "jp2_time = end - start\n",
    "\n",
    "jp2_im = Image.open('Picture4.jp2')\n",
    "jp2_im = jp2_im.convert('RGB')\n",
    "jp2_np = numpy.array(jp2_im)\n",
    "\n",
    "jp2_psnr = cv2.PSNR(np_im, jp2_np)\n",
    "\n",
    "jp2_size, jp2_cr = compression_ratio('Picture4.jp2')"
   ]
  },
  {
   "cell_type": "code",
   "execution_count": 17,
   "metadata": {},
   "outputs": [],
   "source": [
    "start = time.time()\n",
    "rgb_im.save('Picture5.TIFF')\n",
    "end = time.time()\n",
    "\n",
    "tiff_time = end - start\n",
    "\n",
    "tiff_im = Image.open('Picture5.TIFF')\n",
    "tiff_im = tiff_im.convert('RGB')\n",
    "tiff_np = numpy.array(tiff_im)\n",
    "\n",
    "tiff_psnr = cv2.PSNR(np_im, tiff_np)\n",
    "\n",
    "tiff_size, tiff_cr = compression_ratio('Picture5.tiff')"
   ]
  },
  {
   "cell_type": "code",
   "execution_count": 22,
   "metadata": {},
   "outputs": [
    {
     "name": "stdout",
     "output_type": "stream",
     "text": [
      "Original Image Size: 1131930\n",
      "JPEG Size: 155442\n",
      "JPEG Compression Ratio 7.28200872351102\n",
      "JPEG Compression Time: 0.005984067916870117\n",
      "JPEG PSNR 43.27170478102233\n",
      "PNG Size: 155442\n",
      "PNG Compression Ratio 3.4004758557291948\n",
      "PNG Compression Time: 0.15658235549926758\n",
      "PNG PSNR 361.20199909921956\n",
      "GIF Size: 115615\n",
      "GIF Compression Ratio 9.790511611815075\n",
      "GIF Compression Time: 0.11883735656738281\n",
      "GIF PSNR 35.67110310167071\n",
      "JPEG2000 Size: 287224\n",
      "JPEG2000 Compression Ratio 3.94093111996212\n",
      "JPEG2000 Compression Time: 0.06682062149047852\n",
      "JPEG2000 PSNR 361.20199909921956\n",
      "TIFF Size: 849596\n",
      "TIFF Compression Ratio 1.3323155947061898\n",
      "TIFF Compression Time: 0.0019948482513427734\n",
      "TIFF PSNR: 361.20199909921956\n"
     ]
    }
   ],
   "source": [
    "print(\"Original Image Size:\", os.stat('file_example.tiff').st_size)\n",
    "\n",
    "print(\"JPEG Size:\", jpg_size)\n",
    "print(\"JPEG Compression Ratio\", jpg_cr)\n",
    "print(\"JPEG Compression Time:\", jpg_time)\n",
    "print(\"JPEG PSNR\", jpg_psnr)\n",
    "\n",
    "\n",
    "print(\"PNG Size:\", jpg_size)\n",
    "print(\"PNG Compression Ratio\", png_cr)\n",
    "print(\"PNG Compression Time:\", png_time)\n",
    "print(\"PNG PSNR\", png_psnr)\n",
    "\n",
    "print(\"GIF Size:\", gif_size)\n",
    "print(\"GIF Compression Ratio\", gif_cr)\n",
    "print(\"GIF Compression Time:\", gif_time)\n",
    "print(\"GIF PSNR\", gif_psnr)\n",
    "\n",
    "\n",
    "print(\"JPEG2000 Size:\", jp2_size)\n",
    "print(\"JPEG2000 Compression Ratio\", jp2_cr)\n",
    "print(\"JPEG2000 Compression Time:\", jp2_time)\n",
    "print(\"JPEG2000 PSNR\", jp2_psnr)\n",
    "\n",
    "\n",
    "print(\"TIFF Size:\", tiff_size)\n",
    "print(\"TIFF Compression Ratio\", tiff_cr)\n",
    "print(\"TIFF Compression Time:\", tiff_time)\n",
    "print(\"TIFF PSNR:\", tiff_psnr)"
   ]
  },
  {
   "cell_type": "code",
   "execution_count": null,
   "metadata": {},
   "outputs": [],
   "source": []
  }
 ],
 "metadata": {
  "kernelspec": {
   "display_name": "Python 3",
   "language": "python",
   "name": "python3"
  },
  "language_info": {
   "codemirror_mode": {
    "name": "ipython",
    "version": 3
   },
   "file_extension": ".py",
   "mimetype": "text/x-python",
   "name": "python",
   "nbconvert_exporter": "python",
   "pygments_lexer": "ipython3",
   "version": "3.8.3"
  }
 },
 "nbformat": 4,
 "nbformat_minor": 4
}
